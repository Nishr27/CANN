{
  "nbformat": 4,
  "nbformat_minor": 0,
  "metadata": {
    "colab": {
      "name": "CANN for Ogden-Roxburgh Material.ipynb",
      "provenance": [],
      "authorship_tag": "ABX9TyMO1Zorz8nB7ehPHQMB5o7T",
      "include_colab_link": true
    },
    "kernelspec": {
      "name": "python3",
      "display_name": "Python 3"
    },
    "language_info": {
      "name": "python"
    }
  },
  "cells": [
    {
      "cell_type": "markdown",
      "metadata": {
        "id": "view-in-github",
        "colab_type": "text"
      },
      "source": [
        "<a href=\"https://colab.research.google.com/github/Nishr27/CANN/blob/main/CANN_for_Ogden_Roxburgh_Material.ipynb\" target=\"_parent\"><img src=\"https://colab.research.google.com/assets/colab-badge.svg\" alt=\"Open In Colab\"/></a>"
      ]
    },
    {
      "cell_type": "markdown",
      "metadata": {
        "id": "dGbFyDovTpaX"
      },
      "source": [
        "#CANN Model for Ogden-Roxburgh Material\n",
        "\n",
        "A Constitutive ANN for an Ogden-Roxburgh material has been created. The inputs for the modelhave been prepared in Abaqus using a small hyperelastic model with Mullins damage. The results are in the form of stress-strain data. \n",
        "As input for out CANN we need the data in three parts: \n",
        "1. Deformation Gradient\n",
        "2. Strain (or stretch)\n",
        "3. Load "
      ]
    },
    {
      "cell_type": "code",
      "metadata": {
        "id": "MpU5COBnSG6T"
      },
      "source": [
        ""
      ],
      "execution_count": null,
      "outputs": []
    }
  ]
}